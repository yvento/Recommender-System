{
 "cells": [
  {
   "cell_type": "markdown",
   "id": "69f64ed5",
   "metadata": {},
   "source": [
    "# Used Libraries"
   ]
  },
  {
   "cell_type": "code",
   "execution_count": 1,
   "id": "92ca9595",
   "metadata": {},
   "outputs": [],
   "source": [
    "import pandas as pd\n",
    "import matplotlib.pyplot as plt\n",
    "from surprise import Dataset, Reader\n",
    "from surprise.model_selection import cross_validate\n",
    "from surprise import SVD\n",
    "from surprise.model_selection import GridSearchCV\n",
    "import pickle"
   ]
  },
  {
   "cell_type": "markdown",
   "id": "d79bfeca",
   "metadata": {},
   "source": [
    "# Data Loading"
   ]
  },
  {
   "cell_type": "code",
   "execution_count": 2,
   "id": "9fbd9b92",
   "metadata": {},
   "outputs": [],
   "source": [
    "# Load data from json file\n",
    "customers_data = pd.read_json('Data/customers.json')\n",
    "products_data = pd.read_json('Data/products.json')\n",
    "ratings_data = pd.read_json('Data/ratings.json')"
   ]
  },
  {
   "cell_type": "markdown",
   "id": "08c25013",
   "metadata": {},
   "source": [
    "# Displaying data"
   ]
  },
  {
   "cell_type": "code",
   "execution_count": 3,
   "id": "ddea4191",
   "metadata": {},
   "outputs": [
    {
     "data": {
      "text/html": [
       "<div>\n",
       "<style scoped>\n",
       "    .dataframe tbody tr th:only-of-type {\n",
       "        vertical-align: middle;\n",
       "    }\n",
       "\n",
       "    .dataframe tbody tr th {\n",
       "        vertical-align: top;\n",
       "    }\n",
       "\n",
       "    .dataframe thead th {\n",
       "        text-align: right;\n",
       "    }\n",
       "</style>\n",
       "<table border=\"1\" class=\"dataframe\">\n",
       "  <thead>\n",
       "    <tr style=\"text-align: right;\">\n",
       "      <th></th>\n",
       "      <th>CustomerID</th>\n",
       "      <th>NickName</th>\n",
       "    </tr>\n",
       "  </thead>\n",
       "  <tbody>\n",
       "    <tr>\n",
       "      <th>0</th>\n",
       "      <td>103603</td>\n",
       "      <td>1000kgthanh</td>\n",
       "    </tr>\n",
       "    <tr>\n",
       "      <th>1</th>\n",
       "      <td>103760</td>\n",
       "      <td>999999999ok</td>\n",
       "    </tr>\n",
       "    <tr>\n",
       "      <th>2</th>\n",
       "      <td>103829</td>\n",
       "      <td>ac7ive</td>\n",
       "    </tr>\n",
       "    <tr>\n",
       "      <th>3</th>\n",
       "      <td>1</td>\n",
       "      <td>admin</td>\n",
       "    </tr>\n",
       "    <tr>\n",
       "      <th>4</th>\n",
       "      <td>103839</td>\n",
       "      <td>ahkk.nguyen</td>\n",
       "    </tr>\n",
       "    <tr>\n",
       "      <th>...</th>\n",
       "      <td>...</td>\n",
       "      <td>...</td>\n",
       "    </tr>\n",
       "    <tr>\n",
       "      <th>673</th>\n",
       "      <td>103904</td>\n",
       "      <td>yenxaome</td>\n",
       "    </tr>\n",
       "    <tr>\n",
       "      <th>674</th>\n",
       "      <td>103610</td>\n",
       "      <td>yoneteru</td>\n",
       "    </tr>\n",
       "    <tr>\n",
       "      <th>675</th>\n",
       "      <td>103718</td>\n",
       "      <td>young.che</td>\n",
       "    </tr>\n",
       "    <tr>\n",
       "      <th>676</th>\n",
       "      <td>23251</td>\n",
       "      <td>zeatop939</td>\n",
       "    </tr>\n",
       "    <tr>\n",
       "      <th>677</th>\n",
       "      <td>103957</td>\n",
       "      <td>zHeroNguyen</td>\n",
       "    </tr>\n",
       "  </tbody>\n",
       "</table>\n",
       "<p>678 rows × 2 columns</p>\n",
       "</div>"
      ],
      "text/plain": [
       "     CustomerID     NickName\n",
       "0        103603  1000kgthanh\n",
       "1        103760  999999999ok\n",
       "2        103829       ac7ive\n",
       "3             1        admin\n",
       "4        103839  ahkk.nguyen\n",
       "..          ...          ...\n",
       "673      103904     yenxaome\n",
       "674      103610     yoneteru\n",
       "675      103718    young.che\n",
       "676       23251    zeatop939\n",
       "677      103957  zHeroNguyen\n",
       "\n",
       "[678 rows x 2 columns]"
      ]
     },
     "metadata": {},
     "output_type": "display_data"
    }
   ],
   "source": [
    "# Rename ID column and display customers dataset\n",
    "customers_data = customers_data.rename(columns={'Id': 'CustomerID'})\n",
    "display(customers_data)"
   ]
  },
  {
   "cell_type": "code",
   "execution_count": 4,
   "id": "bd311500",
   "metadata": {},
   "outputs": [
    {
     "data": {
      "text/html": [
       "<div>\n",
       "<style scoped>\n",
       "    .dataframe tbody tr th:only-of-type {\n",
       "        vertical-align: middle;\n",
       "    }\n",
       "\n",
       "    .dataframe tbody tr th {\n",
       "        vertical-align: top;\n",
       "    }\n",
       "\n",
       "    .dataframe thead th {\n",
       "        text-align: right;\n",
       "    }\n",
       "</style>\n",
       "<table border=\"1\" class=\"dataframe\">\n",
       "  <thead>\n",
       "    <tr style=\"text-align: right;\">\n",
       "      <th></th>\n",
       "      <th>ProductID</th>\n",
       "      <th>Name</th>\n",
       "      <th>UnitPrice</th>\n",
       "    </tr>\n",
       "  </thead>\n",
       "  <tbody>\n",
       "    <tr>\n",
       "      <th>0</th>\n",
       "      <td>1</td>\n",
       "      <td>Build your own computer</td>\n",
       "      <td>1200.0</td>\n",
       "    </tr>\n",
       "    <tr>\n",
       "      <th>1</th>\n",
       "      <td>2</td>\n",
       "      <td>Digital Storm VANQUISH 3 Custom Performance PC</td>\n",
       "      <td>1259.0</td>\n",
       "    </tr>\n",
       "    <tr>\n",
       "      <th>2</th>\n",
       "      <td>3</td>\n",
       "      <td>Lenovo IdeaCentre 600 All-in-One PC</td>\n",
       "      <td>500.0</td>\n",
       "    </tr>\n",
       "    <tr>\n",
       "      <th>3</th>\n",
       "      <td>4</td>\n",
       "      <td>Apple MacBook Pro 13-inch</td>\n",
       "      <td>1800.0</td>\n",
       "    </tr>\n",
       "    <tr>\n",
       "      <th>4</th>\n",
       "      <td>5</td>\n",
       "      <td>Asus N551JK-XO076H Laptop</td>\n",
       "      <td>1500.0</td>\n",
       "    </tr>\n",
       "    <tr>\n",
       "      <th>...</th>\n",
       "      <td>...</td>\n",
       "      <td>...</td>\n",
       "      <td>...</td>\n",
       "    </tr>\n",
       "    <tr>\n",
       "      <th>686</th>\n",
       "      <td>687</td>\n",
       "      <td>Bird Box</td>\n",
       "      <td>1.0</td>\n",
       "    </tr>\n",
       "    <tr>\n",
       "      <th>687</th>\n",
       "      <td>688</td>\n",
       "      <td>Snowpiercer</td>\n",
       "      <td>2.0</td>\n",
       "    </tr>\n",
       "    <tr>\n",
       "      <th>688</th>\n",
       "      <td>689</td>\n",
       "      <td>Edge of Tomorrow</td>\n",
       "      <td>1.0</td>\n",
       "    </tr>\n",
       "    <tr>\n",
       "      <th>689</th>\n",
       "      <td>690</td>\n",
       "      <td>Ponyo</td>\n",
       "      <td>3.0</td>\n",
       "    </tr>\n",
       "    <tr>\n",
       "      <th>690</th>\n",
       "      <td>691</td>\n",
       "      <td>Escape Room</td>\n",
       "      <td>4.0</td>\n",
       "    </tr>\n",
       "  </tbody>\n",
       "</table>\n",
       "<p>691 rows × 3 columns</p>\n",
       "</div>"
      ],
      "text/plain": [
       "     ProductID                                            Name  UnitPrice\n",
       "0            1                         Build your own computer     1200.0\n",
       "1            2  Digital Storm VANQUISH 3 Custom Performance PC     1259.0\n",
       "2            3             Lenovo IdeaCentre 600 All-in-One PC      500.0\n",
       "3            4                       Apple MacBook Pro 13-inch     1800.0\n",
       "4            5                       Asus N551JK-XO076H Laptop     1500.0\n",
       "..         ...                                             ...        ...\n",
       "686        687                                        Bird Box        1.0\n",
       "687        688                                     Snowpiercer        2.0\n",
       "688        689                                Edge of Tomorrow        1.0\n",
       "689        690                                           Ponyo        3.0\n",
       "690        691                                     Escape Room        4.0\n",
       "\n",
       "[691 rows x 3 columns]"
      ]
     },
     "metadata": {},
     "output_type": "display_data"
    }
   ],
   "source": [
    "# Rename ID column and display products dataset\n",
    "products_data = products_data.rename(columns={'Id': 'ProductID'})\n",
    "display(products_data)"
   ]
  },
  {
   "cell_type": "code",
   "execution_count": 5,
   "id": "53337ac2",
   "metadata": {},
   "outputs": [
    {
     "data": {
      "text/html": [
       "<div>\n",
       "<style scoped>\n",
       "    .dataframe tbody tr th:only-of-type {\n",
       "        vertical-align: middle;\n",
       "    }\n",
       "\n",
       "    .dataframe tbody tr th {\n",
       "        vertical-align: top;\n",
       "    }\n",
       "\n",
       "    .dataframe thead th {\n",
       "        text-align: right;\n",
       "    }\n",
       "</style>\n",
       "<table border=\"1\" class=\"dataframe\">\n",
       "  <thead>\n",
       "    <tr style=\"text-align: right;\">\n",
       "      <th></th>\n",
       "      <th>CustomerID</th>\n",
       "      <th>ProductID</th>\n",
       "      <th>Rate</th>\n",
       "      <th>CreateDate</th>\n",
       "    </tr>\n",
       "  </thead>\n",
       "  <tbody>\n",
       "    <tr>\n",
       "      <th>0</th>\n",
       "      <td>103416</td>\n",
       "      <td>619</td>\n",
       "      <td>1</td>\n",
       "      <td>2018/01/01 01:36:30</td>\n",
       "    </tr>\n",
       "    <tr>\n",
       "      <th>1</th>\n",
       "      <td>103654</td>\n",
       "      <td>411</td>\n",
       "      <td>1</td>\n",
       "      <td>2018/01/01 01:36:35</td>\n",
       "    </tr>\n",
       "    <tr>\n",
       "      <th>2</th>\n",
       "      <td>103954</td>\n",
       "      <td>298</td>\n",
       "      <td>3</td>\n",
       "      <td>2018/01/01 01:36:38</td>\n",
       "    </tr>\n",
       "    <tr>\n",
       "      <th>3</th>\n",
       "      <td>103672</td>\n",
       "      <td>361</td>\n",
       "      <td>5</td>\n",
       "      <td>2018/01/01 01:37:15</td>\n",
       "    </tr>\n",
       "    <tr>\n",
       "      <th>4</th>\n",
       "      <td>103960</td>\n",
       "      <td>536</td>\n",
       "      <td>5</td>\n",
       "      <td>2018/01/01 02:36:25</td>\n",
       "    </tr>\n",
       "    <tr>\n",
       "      <th>...</th>\n",
       "      <td>...</td>\n",
       "      <td>...</td>\n",
       "      <td>...</td>\n",
       "      <td>...</td>\n",
       "    </tr>\n",
       "    <tr>\n",
       "      <th>130749</th>\n",
       "      <td>103907</td>\n",
       "      <td>501</td>\n",
       "      <td>1</td>\n",
       "      <td>2022/03/16 22:25:10</td>\n",
       "    </tr>\n",
       "    <tr>\n",
       "      <th>130750</th>\n",
       "      <td>103907</td>\n",
       "      <td>200</td>\n",
       "      <td>1</td>\n",
       "      <td>2022/03/16 22:49:28</td>\n",
       "    </tr>\n",
       "    <tr>\n",
       "      <th>130751</th>\n",
       "      <td>103907</td>\n",
       "      <td>184</td>\n",
       "      <td>1</td>\n",
       "      <td>2022/03/16 22:53:35</td>\n",
       "    </tr>\n",
       "    <tr>\n",
       "      <th>130752</th>\n",
       "      <td>103907</td>\n",
       "      <td>211</td>\n",
       "      <td>1</td>\n",
       "      <td>2022/03/16 23:14:47</td>\n",
       "    </tr>\n",
       "    <tr>\n",
       "      <th>130753</th>\n",
       "      <td>103907</td>\n",
       "      <td>166</td>\n",
       "      <td>1</td>\n",
       "      <td>2022/03/16 23:15:52</td>\n",
       "    </tr>\n",
       "  </tbody>\n",
       "</table>\n",
       "<p>130754 rows × 4 columns</p>\n",
       "</div>"
      ],
      "text/plain": [
       "        CustomerID  ProductID  Rate           CreateDate\n",
       "0           103416        619     1  2018/01/01 01:36:30\n",
       "1           103654        411     1  2018/01/01 01:36:35\n",
       "2           103954        298     3  2018/01/01 01:36:38\n",
       "3           103672        361     5  2018/01/01 01:37:15\n",
       "4           103960        536     5  2018/01/01 02:36:25\n",
       "...            ...        ...   ...                  ...\n",
       "130749      103907        501     1  2022/03/16 22:25:10\n",
       "130750      103907        200     1  2022/03/16 22:49:28\n",
       "130751      103907        184     1  2022/03/16 22:53:35\n",
       "130752      103907        211     1  2022/03/16 23:14:47\n",
       "130753      103907        166     1  2022/03/16 23:15:52\n",
       "\n",
       "[130754 rows x 4 columns]"
      ]
     },
     "metadata": {},
     "output_type": "display_data"
    }
   ],
   "source": [
    "# Display ratings dataset\n",
    "display(ratings_data)"
   ]
  },
  {
   "cell_type": "markdown",
   "id": "5b9b568c",
   "metadata": {},
   "source": [
    "# Data cleaning"
   ]
  },
  {
   "cell_type": "markdown",
   "id": "58d78745",
   "metadata": {},
   "source": [
    "# 1. Customer Data"
   ]
  },
  {
   "cell_type": "code",
   "execution_count": 6,
   "id": "9b08fe79",
   "metadata": {},
   "outputs": [
    {
     "name": "stdout",
     "output_type": "stream",
     "text": [
      "<class 'pandas.core.frame.DataFrame'>\n",
      "RangeIndex: 678 entries, 0 to 677\n",
      "Data columns (total 2 columns):\n",
      " #   Column      Non-Null Count  Dtype \n",
      "---  ------      --------------  ----- \n",
      " 0   CustomerID  678 non-null    int64 \n",
      " 1   NickName    678 non-null    object\n",
      "dtypes: int64(1), object(1)\n",
      "memory usage: 10.7+ KB\n"
     ]
    },
    {
     "data": {
      "text/plain": [
       "None"
      ]
     },
     "metadata": {},
     "output_type": "display_data"
    }
   ],
   "source": [
    "# Check customer data information\n",
    "display(customers_data.info())"
   ]
  },
  {
   "cell_type": "code",
   "execution_count": 7,
   "id": "aed8ed97",
   "metadata": {},
   "outputs": [
    {
     "data": {
      "text/plain": [
       "CustomerID    0\n",
       "NickName      0\n",
       "dtype: int64"
      ]
     },
     "metadata": {},
     "output_type": "display_data"
    }
   ],
   "source": [
    "# Check for missing values\n",
    "display(customers_data.isnull().sum())"
   ]
  },
  {
   "cell_type": "code",
   "execution_count": 8,
   "id": "4ffb9465",
   "metadata": {},
   "outputs": [
    {
     "data": {
      "text/plain": [
       "0"
      ]
     },
     "metadata": {},
     "output_type": "display_data"
    }
   ],
   "source": [
    "# Check for duplicates\n",
    "display(customers_data.duplicated().sum())"
   ]
  },
  {
   "cell_type": "markdown",
   "id": "143781b4",
   "metadata": {},
   "source": [
    "# 2. Product Data"
   ]
  },
  {
   "cell_type": "code",
   "execution_count": 9,
   "id": "cdb3ef85",
   "metadata": {},
   "outputs": [
    {
     "name": "stdout",
     "output_type": "stream",
     "text": [
      "<class 'pandas.core.frame.DataFrame'>\n",
      "RangeIndex: 691 entries, 0 to 690\n",
      "Data columns (total 3 columns):\n",
      " #   Column     Non-Null Count  Dtype  \n",
      "---  ------     --------------  -----  \n",
      " 0   ProductID  691 non-null    int64  \n",
      " 1   Name       691 non-null    object \n",
      " 2   UnitPrice  691 non-null    float64\n",
      "dtypes: float64(1), int64(1), object(1)\n",
      "memory usage: 16.3+ KB\n"
     ]
    },
    {
     "data": {
      "text/plain": [
       "None"
      ]
     },
     "metadata": {},
     "output_type": "display_data"
    }
   ],
   "source": [
    "# Check products data information\n",
    "display(products_data.info())"
   ]
  },
  {
   "cell_type": "code",
   "execution_count": 10,
   "id": "978239a6",
   "metadata": {},
   "outputs": [
    {
     "data": {
      "text/plain": [
       "ProductID    0\n",
       "Name         0\n",
       "UnitPrice    0\n",
       "dtype: int64"
      ]
     },
     "metadata": {},
     "output_type": "display_data"
    }
   ],
   "source": [
    "# Check for missing values\n",
    "display(products_data.isnull().sum())"
   ]
  },
  {
   "cell_type": "code",
   "execution_count": 11,
   "id": "cac2ba5e",
   "metadata": {},
   "outputs": [
    {
     "data": {
      "text/plain": [
       "0"
      ]
     },
     "metadata": {},
     "output_type": "display_data"
    }
   ],
   "source": [
    "# Check for duplicates\n",
    "display(products_data.duplicated().sum())"
   ]
  },
  {
   "cell_type": "markdown",
   "id": "073b2f15",
   "metadata": {},
   "source": [
    "# 3. Ratings Data"
   ]
  },
  {
   "cell_type": "code",
   "execution_count": 12,
   "id": "c1f18067",
   "metadata": {},
   "outputs": [
    {
     "name": "stdout",
     "output_type": "stream",
     "text": [
      "<class 'pandas.core.frame.DataFrame'>\n",
      "RangeIndex: 130754 entries, 0 to 130753\n",
      "Data columns (total 4 columns):\n",
      " #   Column      Non-Null Count   Dtype \n",
      "---  ------      --------------   ----- \n",
      " 0   CustomerID  130754 non-null  int64 \n",
      " 1   ProductID   130754 non-null  int64 \n",
      " 2   Rate        130754 non-null  int64 \n",
      " 3   CreateDate  130754 non-null  object\n",
      "dtypes: int64(3), object(1)\n",
      "memory usage: 4.0+ MB\n"
     ]
    },
    {
     "data": {
      "text/plain": [
       "None"
      ]
     },
     "metadata": {},
     "output_type": "display_data"
    }
   ],
   "source": [
    "# Check ratings data information\n",
    "display(ratings_data.info())"
   ]
  },
  {
   "cell_type": "code",
   "execution_count": 13,
   "id": "642b234a",
   "metadata": {},
   "outputs": [
    {
     "data": {
      "text/plain": [
       "CustomerID    0\n",
       "ProductID     0\n",
       "Rate          0\n",
       "CreateDate    0\n",
       "dtype: int64"
      ]
     },
     "metadata": {},
     "output_type": "display_data"
    }
   ],
   "source": [
    "# Check for missing values\n",
    "display(ratings_data.isnull().sum())"
   ]
  },
  {
   "cell_type": "code",
   "execution_count": 14,
   "id": "11033e5a",
   "metadata": {},
   "outputs": [
    {
     "data": {
      "text/plain": [
       "0"
      ]
     },
     "metadata": {},
     "output_type": "display_data"
    }
   ],
   "source": [
    "# Check for duplicates\n",
    "display(ratings_data.duplicated().sum())"
   ]
  },
  {
   "cell_type": "markdown",
   "id": "38add1e7",
   "metadata": {},
   "source": [
    "# Integration"
   ]
  },
  {
   "cell_type": "code",
   "execution_count": 15,
   "id": "ab2be628",
   "metadata": {},
   "outputs": [
    {
     "data": {
      "text/html": [
       "<div>\n",
       "<style scoped>\n",
       "    .dataframe tbody tr th:only-of-type {\n",
       "        vertical-align: middle;\n",
       "    }\n",
       "\n",
       "    .dataframe tbody tr th {\n",
       "        vertical-align: top;\n",
       "    }\n",
       "\n",
       "    .dataframe thead th {\n",
       "        text-align: right;\n",
       "    }\n",
       "</style>\n",
       "<table border=\"1\" class=\"dataframe\">\n",
       "  <thead>\n",
       "    <tr style=\"text-align: right;\">\n",
       "      <th></th>\n",
       "      <th>CustomerID</th>\n",
       "      <th>ProductID</th>\n",
       "      <th>Rate</th>\n",
       "      <th>CreateDate</th>\n",
       "      <th>Name</th>\n",
       "      <th>UnitPrice</th>\n",
       "    </tr>\n",
       "  </thead>\n",
       "  <tbody>\n",
       "    <tr>\n",
       "      <th>0</th>\n",
       "      <td>103416</td>\n",
       "      <td>619</td>\n",
       "      <td>1</td>\n",
       "      <td>2018/01/01 01:36:30</td>\n",
       "      <td>Le Vian Chocolate Diamonds 1/4 ct tw Earrings ...</td>\n",
       "      <td>1049.00</td>\n",
       "    </tr>\n",
       "    <tr>\n",
       "      <th>1</th>\n",
       "      <td>103654</td>\n",
       "      <td>411</td>\n",
       "      <td>1</td>\n",
       "      <td>2018/01/01 01:36:35</td>\n",
       "      <td>Diamond Heart Necklace 1/10 ct tw Round-Cut 10...</td>\n",
       "      <td>299.99</td>\n",
       "    </tr>\n",
       "    <tr>\n",
       "      <th>2</th>\n",
       "      <td>103954</td>\n",
       "      <td>298</td>\n",
       "      <td>3</td>\n",
       "      <td>2018/01/01 01:36:38</td>\n",
       "      <td>Heart Ring 1/5 ct tw Diamonds 10K Two-Tone Gold</td>\n",
       "      <td>479.00</td>\n",
       "    </tr>\n",
       "    <tr>\n",
       "      <th>3</th>\n",
       "      <td>103672</td>\n",
       "      <td>361</td>\n",
       "      <td>5</td>\n",
       "      <td>2018/01/01 01:37:15</td>\n",
       "      <td>Neil Lane Diamond Wedding Band 1/4 ct tw 14K W...</td>\n",
       "      <td>719.99</td>\n",
       "    </tr>\n",
       "    <tr>\n",
       "      <th>4</th>\n",
       "      <td>103960</td>\n",
       "      <td>536</td>\n",
       "      <td>5</td>\n",
       "      <td>2018/01/01 02:36:25</td>\n",
       "      <td>Disney Treasures Winnie the Pooh Mother of Pea...</td>\n",
       "      <td>449.99</td>\n",
       "    </tr>\n",
       "    <tr>\n",
       "      <th>...</th>\n",
       "      <td>...</td>\n",
       "      <td>...</td>\n",
       "      <td>...</td>\n",
       "      <td>...</td>\n",
       "      <td>...</td>\n",
       "      <td>...</td>\n",
       "    </tr>\n",
       "    <tr>\n",
       "      <th>130749</th>\n",
       "      <td>103907</td>\n",
       "      <td>501</td>\n",
       "      <td>1</td>\n",
       "      <td>2022/03/16 22:25:10</td>\n",
       "      <td>Amethyst Heart Necklace With Diamond Accent St...</td>\n",
       "      <td>149.99</td>\n",
       "    </tr>\n",
       "    <tr>\n",
       "      <th>130750</th>\n",
       "      <td>103907</td>\n",
       "      <td>200</td>\n",
       "      <td>1</td>\n",
       "      <td>2022/03/16 22:49:28</td>\n",
       "      <td>Promise Ring 1/10 ct tw Diamonds Sterling Silv...</td>\n",
       "      <td>179.00</td>\n",
       "    </tr>\n",
       "    <tr>\n",
       "      <th>130751</th>\n",
       "      <td>103907</td>\n",
       "      <td>184</td>\n",
       "      <td>1</td>\n",
       "      <td>2022/03/16 22:53:35</td>\n",
       "      <td>Paper Coffee Cup</td>\n",
       "      <td>0.50</td>\n",
       "    </tr>\n",
       "    <tr>\n",
       "      <th>130752</th>\n",
       "      <td>103907</td>\n",
       "      <td>211</td>\n",
       "      <td>1</td>\n",
       "      <td>2022/03/16 23:14:47</td>\n",
       "      <td>Diamond Promise Ring 1/20 ct tw Round-cut Ster...</td>\n",
       "      <td>149.99</td>\n",
       "    </tr>\n",
       "    <tr>\n",
       "      <th>130753</th>\n",
       "      <td>103907</td>\n",
       "      <td>166</td>\n",
       "      <td>1</td>\n",
       "      <td>2022/03/16 23:15:52</td>\n",
       "      <td>Dâu Tây Đà Lạt</td>\n",
       "      <td>5.56</td>\n",
       "    </tr>\n",
       "  </tbody>\n",
       "</table>\n",
       "<p>130754 rows × 6 columns</p>\n",
       "</div>"
      ],
      "text/plain": [
       "        CustomerID  ProductID  Rate           CreateDate  \\\n",
       "0           103416        619     1  2018/01/01 01:36:30   \n",
       "1           103654        411     1  2018/01/01 01:36:35   \n",
       "2           103954        298     3  2018/01/01 01:36:38   \n",
       "3           103672        361     5  2018/01/01 01:37:15   \n",
       "4           103960        536     5  2018/01/01 02:36:25   \n",
       "...            ...        ...   ...                  ...   \n",
       "130749      103907        501     1  2022/03/16 22:25:10   \n",
       "130750      103907        200     1  2022/03/16 22:49:28   \n",
       "130751      103907        184     1  2022/03/16 22:53:35   \n",
       "130752      103907        211     1  2022/03/16 23:14:47   \n",
       "130753      103907        166     1  2022/03/16 23:15:52   \n",
       "\n",
       "                                                     Name  UnitPrice  \n",
       "0       Le Vian Chocolate Diamonds 1/4 ct tw Earrings ...    1049.00  \n",
       "1       Diamond Heart Necklace 1/10 ct tw Round-Cut 10...     299.99  \n",
       "2         Heart Ring 1/5 ct tw Diamonds 10K Two-Tone Gold     479.00  \n",
       "3       Neil Lane Diamond Wedding Band 1/4 ct tw 14K W...     719.99  \n",
       "4       Disney Treasures Winnie the Pooh Mother of Pea...     449.99  \n",
       "...                                                   ...        ...  \n",
       "130749  Amethyst Heart Necklace With Diamond Accent St...     149.99  \n",
       "130750  Promise Ring 1/10 ct tw Diamonds Sterling Silv...     179.00  \n",
       "130751                                   Paper Coffee Cup       0.50  \n",
       "130752  Diamond Promise Ring 1/20 ct tw Round-cut Ster...     149.99  \n",
       "130753                                     Dâu Tây Đà Lạt       5.56  \n",
       "\n",
       "[130754 rows x 6 columns]"
      ]
     },
     "metadata": {},
     "output_type": "display_data"
    }
   ],
   "source": [
    "# Merge ratings data and products data\n",
    "ratings_products = pd.merge(ratings_data, products_data, on='ProductID', how='left')\n",
    "display(ratings_products)"
   ]
  },
  {
   "cell_type": "code",
   "execution_count": 16,
   "id": "e6807925",
   "metadata": {},
   "outputs": [
    {
     "data": {
      "text/html": [
       "<div>\n",
       "<style scoped>\n",
       "    .dataframe tbody tr th:only-of-type {\n",
       "        vertical-align: middle;\n",
       "    }\n",
       "\n",
       "    .dataframe tbody tr th {\n",
       "        vertical-align: top;\n",
       "    }\n",
       "\n",
       "    .dataframe thead th {\n",
       "        text-align: right;\n",
       "    }\n",
       "</style>\n",
       "<table border=\"1\" class=\"dataframe\">\n",
       "  <thead>\n",
       "    <tr style=\"text-align: right;\">\n",
       "      <th></th>\n",
       "      <th>CustomerID</th>\n",
       "      <th>ProductID</th>\n",
       "      <th>Rate</th>\n",
       "      <th>CreateDate</th>\n",
       "      <th>Name</th>\n",
       "      <th>UnitPrice</th>\n",
       "      <th>NickName</th>\n",
       "    </tr>\n",
       "  </thead>\n",
       "  <tbody>\n",
       "    <tr>\n",
       "      <th>0</th>\n",
       "      <td>103416</td>\n",
       "      <td>619</td>\n",
       "      <td>1</td>\n",
       "      <td>2018/01/01 01:36:30</td>\n",
       "      <td>Le Vian Chocolate Diamonds 1/4 ct tw Earrings ...</td>\n",
       "      <td>1049.00</td>\n",
       "      <td>vanduong0403</td>\n",
       "    </tr>\n",
       "    <tr>\n",
       "      <th>1</th>\n",
       "      <td>103654</td>\n",
       "      <td>411</td>\n",
       "      <td>1</td>\n",
       "      <td>2018/01/01 01:36:35</td>\n",
       "      <td>Diamond Heart Necklace 1/10 ct tw Round-Cut 10...</td>\n",
       "      <td>299.99</td>\n",
       "      <td>thutruc.huynh.3</td>\n",
       "    </tr>\n",
       "    <tr>\n",
       "      <th>2</th>\n",
       "      <td>103954</td>\n",
       "      <td>298</td>\n",
       "      <td>3</td>\n",
       "      <td>2018/01/01 01:36:38</td>\n",
       "      <td>Heart Ring 1/5 ct tw Diamonds 10K Two-Tone Gold</td>\n",
       "      <td>479.00</td>\n",
       "      <td>ha.n.hien.75</td>\n",
       "    </tr>\n",
       "    <tr>\n",
       "      <th>3</th>\n",
       "      <td>103672</td>\n",
       "      <td>361</td>\n",
       "      <td>5</td>\n",
       "      <td>2018/01/01 01:37:15</td>\n",
       "      <td>Neil Lane Diamond Wedding Band 1/4 ct tw 14K W...</td>\n",
       "      <td>719.99</td>\n",
       "      <td>nam.kimcham.1</td>\n",
       "    </tr>\n",
       "    <tr>\n",
       "      <th>4</th>\n",
       "      <td>103960</td>\n",
       "      <td>536</td>\n",
       "      <td>5</td>\n",
       "      <td>2018/01/01 02:36:25</td>\n",
       "      <td>Disney Treasures Winnie the Pooh Mother of Pea...</td>\n",
       "      <td>449.99</td>\n",
       "      <td>tuanpkna</td>\n",
       "    </tr>\n",
       "    <tr>\n",
       "      <th>...</th>\n",
       "      <td>...</td>\n",
       "      <td>...</td>\n",
       "      <td>...</td>\n",
       "      <td>...</td>\n",
       "      <td>...</td>\n",
       "      <td>...</td>\n",
       "      <td>...</td>\n",
       "    </tr>\n",
       "    <tr>\n",
       "      <th>130749</th>\n",
       "      <td>103907</td>\n",
       "      <td>501</td>\n",
       "      <td>1</td>\n",
       "      <td>2022/03/16 22:25:10</td>\n",
       "      <td>Amethyst Heart Necklace With Diamond Accent St...</td>\n",
       "      <td>149.99</td>\n",
       "      <td>minh.nguyentho</td>\n",
       "    </tr>\n",
       "    <tr>\n",
       "      <th>130750</th>\n",
       "      <td>103907</td>\n",
       "      <td>200</td>\n",
       "      <td>1</td>\n",
       "      <td>2022/03/16 22:49:28</td>\n",
       "      <td>Promise Ring 1/10 ct tw Diamonds Sterling Silv...</td>\n",
       "      <td>179.00</td>\n",
       "      <td>minh.nguyentho</td>\n",
       "    </tr>\n",
       "    <tr>\n",
       "      <th>130751</th>\n",
       "      <td>103907</td>\n",
       "      <td>184</td>\n",
       "      <td>1</td>\n",
       "      <td>2022/03/16 22:53:35</td>\n",
       "      <td>Paper Coffee Cup</td>\n",
       "      <td>0.50</td>\n",
       "      <td>minh.nguyentho</td>\n",
       "    </tr>\n",
       "    <tr>\n",
       "      <th>130752</th>\n",
       "      <td>103907</td>\n",
       "      <td>211</td>\n",
       "      <td>1</td>\n",
       "      <td>2022/03/16 23:14:47</td>\n",
       "      <td>Diamond Promise Ring 1/20 ct tw Round-cut Ster...</td>\n",
       "      <td>149.99</td>\n",
       "      <td>minh.nguyentho</td>\n",
       "    </tr>\n",
       "    <tr>\n",
       "      <th>130753</th>\n",
       "      <td>103907</td>\n",
       "      <td>166</td>\n",
       "      <td>1</td>\n",
       "      <td>2022/03/16 23:15:52</td>\n",
       "      <td>Dâu Tây Đà Lạt</td>\n",
       "      <td>5.56</td>\n",
       "      <td>minh.nguyentho</td>\n",
       "    </tr>\n",
       "  </tbody>\n",
       "</table>\n",
       "<p>130754 rows × 7 columns</p>\n",
       "</div>"
      ],
      "text/plain": [
       "        CustomerID  ProductID  Rate           CreateDate  \\\n",
       "0           103416        619     1  2018/01/01 01:36:30   \n",
       "1           103654        411     1  2018/01/01 01:36:35   \n",
       "2           103954        298     3  2018/01/01 01:36:38   \n",
       "3           103672        361     5  2018/01/01 01:37:15   \n",
       "4           103960        536     5  2018/01/01 02:36:25   \n",
       "...            ...        ...   ...                  ...   \n",
       "130749      103907        501     1  2022/03/16 22:25:10   \n",
       "130750      103907        200     1  2022/03/16 22:49:28   \n",
       "130751      103907        184     1  2022/03/16 22:53:35   \n",
       "130752      103907        211     1  2022/03/16 23:14:47   \n",
       "130753      103907        166     1  2022/03/16 23:15:52   \n",
       "\n",
       "                                                     Name  UnitPrice  \\\n",
       "0       Le Vian Chocolate Diamonds 1/4 ct tw Earrings ...    1049.00   \n",
       "1       Diamond Heart Necklace 1/10 ct tw Round-Cut 10...     299.99   \n",
       "2         Heart Ring 1/5 ct tw Diamonds 10K Two-Tone Gold     479.00   \n",
       "3       Neil Lane Diamond Wedding Band 1/4 ct tw 14K W...     719.99   \n",
       "4       Disney Treasures Winnie the Pooh Mother of Pea...     449.99   \n",
       "...                                                   ...        ...   \n",
       "130749  Amethyst Heart Necklace With Diamond Accent St...     149.99   \n",
       "130750  Promise Ring 1/10 ct tw Diamonds Sterling Silv...     179.00   \n",
       "130751                                   Paper Coffee Cup       0.50   \n",
       "130752  Diamond Promise Ring 1/20 ct tw Round-cut Ster...     149.99   \n",
       "130753                                     Dâu Tây Đà Lạt       5.56   \n",
       "\n",
       "               NickName  \n",
       "0          vanduong0403  \n",
       "1       thutruc.huynh.3  \n",
       "2          ha.n.hien.75  \n",
       "3         nam.kimcham.1  \n",
       "4              tuanpkna  \n",
       "...                 ...  \n",
       "130749   minh.nguyentho  \n",
       "130750   minh.nguyentho  \n",
       "130751   minh.nguyentho  \n",
       "130752   minh.nguyentho  \n",
       "130753   minh.nguyentho  \n",
       "\n",
       "[130754 rows x 7 columns]"
      ]
     },
     "metadata": {},
     "output_type": "display_data"
    }
   ],
   "source": [
    "# Merge full dataframe\n",
    "full_data = pd.merge(ratings_products, customers_data, on='CustomerID', how='left')\n",
    "full_data = pd.DataFrame(full_data)\n",
    "display(full_data)"
   ]
  },
  {
   "cell_type": "code",
   "execution_count": 17,
   "id": "5cd0ecaa",
   "metadata": {},
   "outputs": [
    {
     "data": {
      "text/html": [
       "<div>\n",
       "<style scoped>\n",
       "    .dataframe tbody tr th:only-of-type {\n",
       "        vertical-align: middle;\n",
       "    }\n",
       "\n",
       "    .dataframe tbody tr th {\n",
       "        vertical-align: top;\n",
       "    }\n",
       "\n",
       "    .dataframe thead th {\n",
       "        text-align: right;\n",
       "    }\n",
       "</style>\n",
       "<table border=\"1\" class=\"dataframe\">\n",
       "  <thead>\n",
       "    <tr style=\"text-align: right;\">\n",
       "      <th></th>\n",
       "      <th>CreateDate</th>\n",
       "      <th>CustomerID</th>\n",
       "      <th>NickName</th>\n",
       "      <th>ProductID</th>\n",
       "      <th>Name</th>\n",
       "      <th>UnitPrice</th>\n",
       "      <th>Rate</th>\n",
       "    </tr>\n",
       "  </thead>\n",
       "  <tbody>\n",
       "    <tr>\n",
       "      <th>0</th>\n",
       "      <td>2018/01/01 01:36:30</td>\n",
       "      <td>103416</td>\n",
       "      <td>vanduong0403</td>\n",
       "      <td>619</td>\n",
       "      <td>Le Vian Chocolate Diamonds 1/4 ct tw Earrings ...</td>\n",
       "      <td>1049.00</td>\n",
       "      <td>1</td>\n",
       "    </tr>\n",
       "    <tr>\n",
       "      <th>1</th>\n",
       "      <td>2018/01/01 01:36:35</td>\n",
       "      <td>103654</td>\n",
       "      <td>thutruc.huynh.3</td>\n",
       "      <td>411</td>\n",
       "      <td>Diamond Heart Necklace 1/10 ct tw Round-Cut 10...</td>\n",
       "      <td>299.99</td>\n",
       "      <td>1</td>\n",
       "    </tr>\n",
       "    <tr>\n",
       "      <th>2</th>\n",
       "      <td>2018/01/01 01:36:38</td>\n",
       "      <td>103954</td>\n",
       "      <td>ha.n.hien.75</td>\n",
       "      <td>298</td>\n",
       "      <td>Heart Ring 1/5 ct tw Diamonds 10K Two-Tone Gold</td>\n",
       "      <td>479.00</td>\n",
       "      <td>3</td>\n",
       "    </tr>\n",
       "    <tr>\n",
       "      <th>3</th>\n",
       "      <td>2018/01/01 01:37:15</td>\n",
       "      <td>103672</td>\n",
       "      <td>nam.kimcham.1</td>\n",
       "      <td>361</td>\n",
       "      <td>Neil Lane Diamond Wedding Band 1/4 ct tw 14K W...</td>\n",
       "      <td>719.99</td>\n",
       "      <td>5</td>\n",
       "    </tr>\n",
       "    <tr>\n",
       "      <th>4</th>\n",
       "      <td>2018/01/01 02:36:25</td>\n",
       "      <td>103960</td>\n",
       "      <td>tuanpkna</td>\n",
       "      <td>536</td>\n",
       "      <td>Disney Treasures Winnie the Pooh Mother of Pea...</td>\n",
       "      <td>449.99</td>\n",
       "      <td>5</td>\n",
       "    </tr>\n",
       "    <tr>\n",
       "      <th>...</th>\n",
       "      <td>...</td>\n",
       "      <td>...</td>\n",
       "      <td>...</td>\n",
       "      <td>...</td>\n",
       "      <td>...</td>\n",
       "      <td>...</td>\n",
       "      <td>...</td>\n",
       "    </tr>\n",
       "    <tr>\n",
       "      <th>130749</th>\n",
       "      <td>2022/03/16 22:25:10</td>\n",
       "      <td>103907</td>\n",
       "      <td>minh.nguyentho</td>\n",
       "      <td>501</td>\n",
       "      <td>Amethyst Heart Necklace With Diamond Accent St...</td>\n",
       "      <td>149.99</td>\n",
       "      <td>1</td>\n",
       "    </tr>\n",
       "    <tr>\n",
       "      <th>130750</th>\n",
       "      <td>2022/03/16 22:49:28</td>\n",
       "      <td>103907</td>\n",
       "      <td>minh.nguyentho</td>\n",
       "      <td>200</td>\n",
       "      <td>Promise Ring 1/10 ct tw Diamonds Sterling Silv...</td>\n",
       "      <td>179.00</td>\n",
       "      <td>1</td>\n",
       "    </tr>\n",
       "    <tr>\n",
       "      <th>130751</th>\n",
       "      <td>2022/03/16 22:53:35</td>\n",
       "      <td>103907</td>\n",
       "      <td>minh.nguyentho</td>\n",
       "      <td>184</td>\n",
       "      <td>Paper Coffee Cup</td>\n",
       "      <td>0.50</td>\n",
       "      <td>1</td>\n",
       "    </tr>\n",
       "    <tr>\n",
       "      <th>130752</th>\n",
       "      <td>2022/03/16 23:14:47</td>\n",
       "      <td>103907</td>\n",
       "      <td>minh.nguyentho</td>\n",
       "      <td>211</td>\n",
       "      <td>Diamond Promise Ring 1/20 ct tw Round-cut Ster...</td>\n",
       "      <td>149.99</td>\n",
       "      <td>1</td>\n",
       "    </tr>\n",
       "    <tr>\n",
       "      <th>130753</th>\n",
       "      <td>2022/03/16 23:15:52</td>\n",
       "      <td>103907</td>\n",
       "      <td>minh.nguyentho</td>\n",
       "      <td>166</td>\n",
       "      <td>Dâu Tây Đà Lạt</td>\n",
       "      <td>5.56</td>\n",
       "      <td>1</td>\n",
       "    </tr>\n",
       "  </tbody>\n",
       "</table>\n",
       "<p>130754 rows × 7 columns</p>\n",
       "</div>"
      ],
      "text/plain": [
       "                 CreateDate  CustomerID         NickName  ProductID  \\\n",
       "0       2018/01/01 01:36:30      103416     vanduong0403        619   \n",
       "1       2018/01/01 01:36:35      103654  thutruc.huynh.3        411   \n",
       "2       2018/01/01 01:36:38      103954     ha.n.hien.75        298   \n",
       "3       2018/01/01 01:37:15      103672    nam.kimcham.1        361   \n",
       "4       2018/01/01 02:36:25      103960         tuanpkna        536   \n",
       "...                     ...         ...              ...        ...   \n",
       "130749  2022/03/16 22:25:10      103907   minh.nguyentho        501   \n",
       "130750  2022/03/16 22:49:28      103907   minh.nguyentho        200   \n",
       "130751  2022/03/16 22:53:35      103907   minh.nguyentho        184   \n",
       "130752  2022/03/16 23:14:47      103907   minh.nguyentho        211   \n",
       "130753  2022/03/16 23:15:52      103907   minh.nguyentho        166   \n",
       "\n",
       "                                                     Name  UnitPrice  Rate  \n",
       "0       Le Vian Chocolate Diamonds 1/4 ct tw Earrings ...    1049.00     1  \n",
       "1       Diamond Heart Necklace 1/10 ct tw Round-Cut 10...     299.99     1  \n",
       "2         Heart Ring 1/5 ct tw Diamonds 10K Two-Tone Gold     479.00     3  \n",
       "3       Neil Lane Diamond Wedding Band 1/4 ct tw 14K W...     719.99     5  \n",
       "4       Disney Treasures Winnie the Pooh Mother of Pea...     449.99     5  \n",
       "...                                                   ...        ...   ...  \n",
       "130749  Amethyst Heart Necklace With Diamond Accent St...     149.99     1  \n",
       "130750  Promise Ring 1/10 ct tw Diamonds Sterling Silv...     179.00     1  \n",
       "130751                                   Paper Coffee Cup       0.50     1  \n",
       "130752  Diamond Promise Ring 1/20 ct tw Round-cut Ster...     149.99     1  \n",
       "130753                                     Dâu Tây Đà Lạt       5.56     1  \n",
       "\n",
       "[130754 rows x 7 columns]"
      ]
     },
     "metadata": {},
     "output_type": "display_data"
    }
   ],
   "source": [
    "# Reorder Columns\n",
    "new_order = ['CreateDate', 'CustomerID', 'NickName', 'ProductID', 'Name', 'UnitPrice', 'Rate']\n",
    "full_dataset = full_data[new_order]\n",
    "display(full_dataset)"
   ]
  },
  {
   "cell_type": "code",
   "execution_count": 18,
   "id": "92c3b98f",
   "metadata": {},
   "outputs": [
    {
     "name": "stdout",
     "output_type": "stream",
     "text": [
      "<class 'pandas.core.frame.DataFrame'>\n",
      "Int64Index: 130754 entries, 0 to 130753\n",
      "Data columns (total 7 columns):\n",
      " #   Column      Non-Null Count   Dtype  \n",
      "---  ------      --------------   -----  \n",
      " 0   CreateDate  130754 non-null  object \n",
      " 1   CustomerID  130754 non-null  int64  \n",
      " 2   NickName    130754 non-null  object \n",
      " 3   ProductID   130754 non-null  int64  \n",
      " 4   Name        130754 non-null  object \n",
      " 5   UnitPrice   130754 non-null  float64\n",
      " 6   Rate        130754 non-null  int64  \n",
      "dtypes: float64(1), int64(3), object(3)\n",
      "memory usage: 8.0+ MB\n"
     ]
    }
   ],
   "source": [
    "# Check dataset information\n",
    "full_dataset.info()"
   ]
  },
  {
   "cell_type": "markdown",
   "id": "54e25626",
   "metadata": {},
   "source": [
    "# Analysis"
   ]
  },
  {
   "cell_type": "code",
   "execution_count": 19,
   "id": "d2d0ab4d",
   "metadata": {},
   "outputs": [
    {
     "data": {
      "text/html": [
       "<div>\n",
       "<style scoped>\n",
       "    .dataframe tbody tr th:only-of-type {\n",
       "        vertical-align: middle;\n",
       "    }\n",
       "\n",
       "    .dataframe tbody tr th {\n",
       "        vertical-align: top;\n",
       "    }\n",
       "\n",
       "    .dataframe thead th {\n",
       "        text-align: right;\n",
       "    }\n",
       "</style>\n",
       "<table border=\"1\" class=\"dataframe\">\n",
       "  <thead>\n",
       "    <tr style=\"text-align: right;\">\n",
       "      <th></th>\n",
       "      <th>ProductID</th>\n",
       "      <th>AverageRating</th>\n",
       "    </tr>\n",
       "  </thead>\n",
       "  <tbody>\n",
       "    <tr>\n",
       "      <th>0</th>\n",
       "      <td>1</td>\n",
       "      <td>3.342995</td>\n",
       "    </tr>\n",
       "    <tr>\n",
       "      <th>1</th>\n",
       "      <td>2</td>\n",
       "      <td>3.098039</td>\n",
       "    </tr>\n",
       "    <tr>\n",
       "      <th>2</th>\n",
       "      <td>3</td>\n",
       "      <td>3.199005</td>\n",
       "    </tr>\n",
       "    <tr>\n",
       "      <th>3</th>\n",
       "      <td>4</td>\n",
       "      <td>3.336957</td>\n",
       "    </tr>\n",
       "    <tr>\n",
       "      <th>4</th>\n",
       "      <td>5</td>\n",
       "      <td>3.313131</td>\n",
       "    </tr>\n",
       "    <tr>\n",
       "      <th>...</th>\n",
       "      <td>...</td>\n",
       "      <td>...</td>\n",
       "    </tr>\n",
       "    <tr>\n",
       "      <th>686</th>\n",
       "      <td>687</td>\n",
       "      <td>3.235294</td>\n",
       "    </tr>\n",
       "    <tr>\n",
       "      <th>687</th>\n",
       "      <td>688</td>\n",
       "      <td>3.188119</td>\n",
       "    </tr>\n",
       "    <tr>\n",
       "      <th>688</th>\n",
       "      <td>689</td>\n",
       "      <td>3.005000</td>\n",
       "    </tr>\n",
       "    <tr>\n",
       "      <th>689</th>\n",
       "      <td>690</td>\n",
       "      <td>3.283237</td>\n",
       "    </tr>\n",
       "    <tr>\n",
       "      <th>690</th>\n",
       "      <td>691</td>\n",
       "      <td>3.201087</td>\n",
       "    </tr>\n",
       "  </tbody>\n",
       "</table>\n",
       "<p>691 rows × 2 columns</p>\n",
       "</div>"
      ],
      "text/plain": [
       "     ProductID  AverageRating\n",
       "0            1       3.342995\n",
       "1            2       3.098039\n",
       "2            3       3.199005\n",
       "3            4       3.336957\n",
       "4            5       3.313131\n",
       "..         ...            ...\n",
       "686        687       3.235294\n",
       "687        688       3.188119\n",
       "688        689       3.005000\n",
       "689        690       3.283237\n",
       "690        691       3.201087\n",
       "\n",
       "[691 rows x 2 columns]"
      ]
     },
     "metadata": {},
     "output_type": "display_data"
    }
   ],
   "source": [
    "# Compute average rating per product\n",
    "average_ratings = full_dataset.groupby('ProductID')['Rate'].mean().reset_index()\n",
    "average_ratings.columns = ['ProductID', 'AverageRating']\n",
    "display(average_ratings)"
   ]
  },
  {
   "cell_type": "code",
   "execution_count": 20,
   "id": "77b79a74",
   "metadata": {},
   "outputs": [
    {
     "data": {
      "image/png": "[encoded data removed]",
      "text/plain": [
       "<Figure size 640x480 with 1 Axes>"
      ]
     },
     "metadata": {},
     "output_type": "display_data"
    }
   ],
   "source": [
    "# Averarge Rating versus Unit Price Visualization\n",
    "plt.scatter(products_data['UnitPrice'], average_ratings['AverageRating'], alpha=0.5, color='purple')\n",
    "plt.xlabel('Unit Price')\n",
    "plt.ylabel('Average Rating')\n",
    "plt.title('Average Rating vs. Unit Price')\n",
    "plt.show()\n"
   ]
  },
  {
   "cell_type": "code",
   "execution_count": 21,
   "id": "1e323d97",
   "metadata": {},
   "outputs": [
    {
     "data": {
      "image/png": "[encoded data removed]",
      "text/plain": [
       "<Figure size 640x480 with 1 Axes>"
      ]
     },
     "metadata": {},
     "output_type": "display_data"
    }
   ],
   "source": [
    "# Produce graph of products Ratings distribution\n",
    "full_dataset['Rate'].plot.hist(bins=5, color='coral', edgecolor='black')\n",
    "plt.xlabel('Rating')\n",
    "plt.ylabel('Count')\n",
    "plt.title('Distribution of Product Ratings')\n",
    "plt.xticks(range(1, 6))\n",
    "plt.show()"
   ]
  },
  {
   "cell_type": "code",
   "execution_count": 22,
   "id": "38a24d8b",
   "metadata": {},
   "outputs": [],
   "source": [
    "# Finding top rated products\n",
    "top_rated_products = average_ratings.nlargest(10, 'AverageRating')\n",
    "top_rated_products = products_data.loc[products_data['ProductID'].isin(top_rated_products['ProductID']), ['ProductID','Name']]"
   ]
  },
  {
   "cell_type": "code",
   "execution_count": 23,
   "id": "e17a664f",
   "metadata": {},
   "outputs": [
    {
     "data": {
      "text/html": [
       "<div>\n",
       "<style scoped>\n",
       "    .dataframe tbody tr th:only-of-type {\n",
       "        vertical-align: middle;\n",
       "    }\n",
       "\n",
       "    .dataframe tbody tr th {\n",
       "        vertical-align: top;\n",
       "    }\n",
       "\n",
       "    .dataframe thead th {\n",
       "        text-align: right;\n",
       "    }\n",
       "</style>\n",
       "<table border=\"1\" class=\"dataframe\">\n",
       "  <thead>\n",
       "    <tr style=\"text-align: right;\">\n",
       "      <th></th>\n",
       "      <th>ProductID</th>\n",
       "      <th>Name</th>\n",
       "    </tr>\n",
       "  </thead>\n",
       "  <tbody>\n",
       "    <tr>\n",
       "      <th>95</th>\n",
       "      <td>96</td>\n",
       "      <td>Móc khóa BTS phát sáng BTS mẫu B</td>\n",
       "    </tr>\n",
       "    <tr>\n",
       "      <th>118</th>\n",
       "      <td>119</td>\n",
       "      <td>Quần Jeans Nữ B&amp;Y</td>\n",
       "    </tr>\n",
       "    <tr>\n",
       "      <th>233</th>\n",
       "      <td>234</td>\n",
       "      <td>3-Stone Promise Ring 1/6 ct tw Diamonds Sterli...</td>\n",
       "    </tr>\n",
       "    <tr>\n",
       "      <th>425</th>\n",
       "      <td>426</td>\n",
       "      <td>Forever Connected Diamond Necklace 1/3 ct tw P...</td>\n",
       "    </tr>\n",
       "    <tr>\n",
       "      <th>435</th>\n",
       "      <td>436</td>\n",
       "      <td>Men's Diamond Mariner Necklace 4 ct tw Round-c...</td>\n",
       "    </tr>\n",
       "    <tr>\n",
       "      <th>439</th>\n",
       "      <td>440</td>\n",
       "      <td>Cross Necklace 1/10 ct tw Diamonds Sterling Si...</td>\n",
       "    </tr>\n",
       "    <tr>\n",
       "      <th>465</th>\n",
       "      <td>466</td>\n",
       "      <td>Key Necklace 14K Yellow Gold</td>\n",
       "    </tr>\n",
       "    <tr>\n",
       "      <th>518</th>\n",
       "      <td>519</td>\n",
       "      <td>Forever Connected Diamond Necklace 1 ct tw Rou...</td>\n",
       "    </tr>\n",
       "    <tr>\n",
       "      <th>582</th>\n",
       "      <td>583</td>\n",
       "      <td>Hoop Earrings 14K Yellow Gold</td>\n",
       "    </tr>\n",
       "    <tr>\n",
       "      <th>605</th>\n",
       "      <td>606</td>\n",
       "      <td>Disney Treasures The Aristocats Diamond Earrin...</td>\n",
       "    </tr>\n",
       "  </tbody>\n",
       "</table>\n",
       "</div>"
      ],
      "text/plain": [
       "     ProductID                                               Name\n",
       "95          96                   Móc khóa BTS phát sáng BTS mẫu B\n",
       "118        119                                  Quần Jeans Nữ B&Y\n",
       "233        234  3-Stone Promise Ring 1/6 ct tw Diamonds Sterli...\n",
       "425        426  Forever Connected Diamond Necklace 1/3 ct tw P...\n",
       "435        436  Men's Diamond Mariner Necklace 4 ct tw Round-c...\n",
       "439        440  Cross Necklace 1/10 ct tw Diamonds Sterling Si...\n",
       "465        466                       Key Necklace 14K Yellow Gold\n",
       "518        519  Forever Connected Diamond Necklace 1 ct tw Rou...\n",
       "582        583                      Hoop Earrings 14K Yellow Gold\n",
       "605        606  Disney Treasures The Aristocats Diamond Earrin..."
      ]
     },
     "metadata": {},
     "output_type": "display_data"
    }
   ],
   "source": [
    "# Display top rated products\n",
    "display(top_rated_products)"
   ]
  },
  {
   "cell_type": "markdown",
   "id": "85213bc6",
   "metadata": {},
   "source": [
    "# User-Based Collaborative Filtering"
   ]
  },
  {
   "cell_type": "code",
   "execution_count": 24,
   "id": "a9064c6a",
   "metadata": {},
   "outputs": [],
   "source": [
    "# Create ratings data\n",
    "ratings_data = full_data[['CustomerID', 'ProductID', 'Rate']]\n",
    "\n",
    "# Define a reader with the rating scale\n",
    "reader = Reader(rating_scale=(1, 5))\n",
    "\n",
    "# Load the dataset from the DataFrame\n",
    "data = Dataset.load_from_df(ratings_data[['CustomerID', 'ProductID', 'Rate']], reader)\n"
   ]
  },
  {
   "cell_type": "code",
   "execution_count": 25,
   "id": "47f9b393",
   "metadata": {},
   "outputs": [
    {
     "name": "stdout",
     "output_type": "stream",
     "text": [
      "Evaluating RMSE, MAE of algorithm SVD on 3 split(s).\n",
      "\n",
      "                  Fold 1  Fold 2  Fold 3  Mean    Std     \n",
      "RMSE (testset)    1.1875  1.1917  1.1934  1.1909  0.0025  \n",
      "MAE (testset)     0.8378  0.8398  0.8430  0.8402  0.0021  \n",
      "Fit time          0.76    0.63    0.69    0.69    0.05    \n",
      "Test time         0.23    0.18    0.17    0.19    0.02    \n"
     ]
    },
    {
     "data": {
      "text/plain": [
       "<surprise.prediction_algorithms.matrix_factorization.SVD at 0x1480d48cbd0>"
      ]
     },
     "execution_count": 25,
     "metadata": {},
     "output_type": "execute_result"
    }
   ],
   "source": [
    "# Perform SVD (Singular Value Decomposition)\n",
    "algorithm = SVD()\n",
    "\n",
    "# Perform cross-validation\n",
    "cross_validate(algorithm, data, measures=['RMSE', 'MAE'], cv=3, verbose=True)\n",
    "\n",
    "# Train the dataset and fit the algorithm\n",
    "trainset = data.build_full_trainset()\n",
    "algorithm.fit(trainset)"
   ]
  },
  {
   "cell_type": "code",
   "execution_count": 26,
   "id": "465a1a2c",
   "metadata": {},
   "outputs": [
    {
     "data": {
      "text/html": [
       "<div>\n",
       "<style scoped>\n",
       "    .dataframe tbody tr th:only-of-type {\n",
       "        vertical-align: middle;\n",
       "    }\n",
       "\n",
       "    .dataframe tbody tr th {\n",
       "        vertical-align: top;\n",
       "    }\n",
       "\n",
       "    .dataframe thead th {\n",
       "        text-align: right;\n",
       "    }\n",
       "</style>\n",
       "<table border=\"1\" class=\"dataframe\">\n",
       "  <thead>\n",
       "    <tr style=\"text-align: right;\">\n",
       "      <th></th>\n",
       "      <th>CustomerID</th>\n",
       "      <th>ProductID</th>\n",
       "      <th>Predicted Rating</th>\n",
       "      <th>Name</th>\n",
       "      <th>UnitPrice</th>\n",
       "    </tr>\n",
       "  </thead>\n",
       "  <tbody>\n",
       "    <tr>\n",
       "      <th>0</th>\n",
       "      <td>103416</td>\n",
       "      <td>619</td>\n",
       "      <td>2.078581</td>\n",
       "      <td>Le Vian Chocolate Diamonds 1/4 ct tw Earrings ...</td>\n",
       "      <td>1049.00</td>\n",
       "    </tr>\n",
       "    <tr>\n",
       "      <th>1</th>\n",
       "      <td>103416</td>\n",
       "      <td>411</td>\n",
       "      <td>2.260066</td>\n",
       "      <td>Diamond Heart Necklace 1/10 ct tw Round-Cut 10...</td>\n",
       "      <td>299.99</td>\n",
       "    </tr>\n",
       "    <tr>\n",
       "      <th>2</th>\n",
       "      <td>103416</td>\n",
       "      <td>298</td>\n",
       "      <td>2.493047</td>\n",
       "      <td>Heart Ring 1/5 ct tw Diamonds 10K Two-Tone Gold</td>\n",
       "      <td>479.00</td>\n",
       "    </tr>\n",
       "    <tr>\n",
       "      <th>3</th>\n",
       "      <td>103416</td>\n",
       "      <td>361</td>\n",
       "      <td>2.216943</td>\n",
       "      <td>Neil Lane Diamond Wedding Band 1/4 ct tw 14K W...</td>\n",
       "      <td>719.99</td>\n",
       "    </tr>\n",
       "    <tr>\n",
       "      <th>4</th>\n",
       "      <td>103416</td>\n",
       "      <td>536</td>\n",
       "      <td>2.651371</td>\n",
       "      <td>Disney Treasures Winnie the Pooh Mother of Pea...</td>\n",
       "      <td>449.99</td>\n",
       "    </tr>\n",
       "    <tr>\n",
       "      <th>...</th>\n",
       "      <td>...</td>\n",
       "      <td>...</td>\n",
       "      <td>...</td>\n",
       "      <td>...</td>\n",
       "      <td>...</td>\n",
       "    </tr>\n",
       "    <tr>\n",
       "      <th>237699</th>\n",
       "      <td>103611</td>\n",
       "      <td>499</td>\n",
       "      <td>1.000000</td>\n",
       "      <td>Le Vian Morganite Necklace 1/10 ct tw Diamonds...</td>\n",
       "      <td>1299.99</td>\n",
       "    </tr>\n",
       "    <tr>\n",
       "      <th>237700</th>\n",
       "      <td>103611</td>\n",
       "      <td>581</td>\n",
       "      <td>1.058854</td>\n",
       "      <td>Children's Butterfly Hoop Earrings 14K Yellow ...</td>\n",
       "      <td>79.99</td>\n",
       "    </tr>\n",
       "    <tr>\n",
       "      <th>237701</th>\n",
       "      <td>103611</td>\n",
       "      <td>512</td>\n",
       "      <td>1.001934</td>\n",
       "      <td>Diamond Solitaire Necklace 1/4 ct tw Round-cut...</td>\n",
       "      <td>629.00</td>\n",
       "    </tr>\n",
       "    <tr>\n",
       "      <th>237702</th>\n",
       "      <td>103611</td>\n",
       "      <td>469</td>\n",
       "      <td>1.155916</td>\n",
       "      <td>Diamond Cross Necklace 10K Yellow Gold</td>\n",
       "      <td>339.00</td>\n",
       "    </tr>\n",
       "    <tr>\n",
       "      <th>237703</th>\n",
       "      <td>103611</td>\n",
       "      <td>236</td>\n",
       "      <td>1.000000</td>\n",
       "      <td>Black &amp; White Diamond Promise Ring 1/6 ct tw S...</td>\n",
       "      <td>219.00</td>\n",
       "    </tr>\n",
       "  </tbody>\n",
       "</table>\n",
       "<p>237704 rows × 5 columns</p>\n",
       "</div>"
      ],
      "text/plain": [
       "        CustomerID  ProductID  Predicted Rating  \\\n",
       "0           103416        619          2.078581   \n",
       "1           103416        411          2.260066   \n",
       "2           103416        298          2.493047   \n",
       "3           103416        361          2.216943   \n",
       "4           103416        536          2.651371   \n",
       "...            ...        ...               ...   \n",
       "237699      103611        499          1.000000   \n",
       "237700      103611        581          1.058854   \n",
       "237701      103611        512          1.001934   \n",
       "237702      103611        469          1.155916   \n",
       "237703      103611        236          1.000000   \n",
       "\n",
       "                                                     Name  UnitPrice  \n",
       "0       Le Vian Chocolate Diamonds 1/4 ct tw Earrings ...    1049.00  \n",
       "1       Diamond Heart Necklace 1/10 ct tw Round-Cut 10...     299.99  \n",
       "2         Heart Ring 1/5 ct tw Diamonds 10K Two-Tone Gold     479.00  \n",
       "3       Neil Lane Diamond Wedding Band 1/4 ct tw 14K W...     719.99  \n",
       "4       Disney Treasures Winnie the Pooh Mother of Pea...     449.99  \n",
       "...                                                   ...        ...  \n",
       "237699  Le Vian Morganite Necklace 1/10 ct tw Diamonds...    1299.99  \n",
       "237700  Children's Butterfly Hoop Earrings 14K Yellow ...      79.99  \n",
       "237701  Diamond Solitaire Necklace 1/4 ct tw Round-cut...     629.00  \n",
       "237702             Diamond Cross Necklace 10K Yellow Gold     339.00  \n",
       "237703  Black & White Diamond Promise Ring 1/6 ct tw S...     219.00  \n",
       "\n",
       "[237704 rows x 5 columns]"
      ]
     },
     "metadata": {},
     "output_type": "display_data"
    }
   ],
   "source": [
    "# Create a list to store all predictions\n",
    "predicted_data = []\n",
    "\n",
    "# Iterate over all users and items\n",
    "for customer_id in ratings_data['CustomerID'].unique():\n",
    "    for product_id in ratings_data['ProductID'].unique():\n",
    "        # Predict the rating\n",
    "        prediction = algorithm.predict(customer_id, product_id)\n",
    "        predicted_data.append((customer_id, product_id, prediction.est))\n",
    "\n",
    "# Convert the predictions list to a DataFrame\n",
    "predicted_ratings = pd.DataFrame(predicted_data, columns=['CustomerID', 'ProductID', 'Predicted Rating'])\n",
    "predicted_ratings = pd.merge(predicted_ratings, products_data, on='ProductID', how='left')\n",
    "display(predicted_ratings)"
   ]
  },
  {
   "cell_type": "markdown",
   "id": "2c5ebd2b",
   "metadata": {},
   "source": [
    "# Hyperparameter Tuning"
   ]
  },
  {
   "cell_type": "code",
   "execution_count": 27,
   "id": "f69d8280",
   "metadata": {},
   "outputs": [
    {
     "name": "stdout",
     "output_type": "stream",
     "text": [
      "1.090543699852909\n",
      "{'n_factors': 50, 'n_epochs': 20, 'lr_all': 0.005, 'reg_all': 0.05}\n"
     ]
    }
   ],
   "source": [
    "# Define a parameter grid to search\n",
    "parameters = {\n",
    "    'n_factors': [50, 100, 150],\n",
    "    'n_epochs': [20, 30],\n",
    "    'lr_all': [0.005, 0.01],\n",
    "    'reg_all': [0.02, 0.05]\n",
    "}\n",
    "\n",
    "# Initialize the grid search\n",
    "grid_search = GridSearchCV(SVD, parameters, measures=['rmse', 'mae'], cv=3)\n",
    "\n",
    "# Fit the grid search to the data\n",
    "grid_search.fit(data)\n",
    "\n",
    "# Best RMSE score\n",
    "print(grid_search.best_score['rmse'])\n",
    "\n",
    "# Combination of parameters that gave the best RMSE score\n",
    "print(grid_search.best_params['rmse'])"
   ]
  },
  {
   "cell_type": "markdown",
   "id": "4be7e04f",
   "metadata": {},
   "source": [
    "# Model optimizing"
   ]
  },
  {
   "cell_type": "code",
   "execution_count": 28,
   "id": "2fe21f64",
   "metadata": {},
   "outputs": [
    {
     "name": "stdout",
     "output_type": "stream",
     "text": [
      "Evaluating RMSE, MAE of algorithm SVD on 3 split(s).\n",
      "\n",
      "                  Fold 1  Fold 2  Fold 3  Mean    Std     \n",
      "RMSE (testset)    1.0965  1.0839  1.0907  1.0903  0.0052  \n",
      "MAE (testset)     0.7988  0.7910  0.7956  0.7951  0.0032  \n",
      "Fit time          0.63    0.79    1.04    0.82    0.17    \n",
      "Test time         0.22    0.21    0.75    0.40    0.25    \n"
     ]
    },
    {
     "data": {
      "text/plain": [
       "<surprise.prediction_algorithms.matrix_factorization.SVD at 0x1480fa68f50>"
      ]
     },
     "execution_count": 28,
     "metadata": {},
     "output_type": "execute_result"
    }
   ],
   "source": [
    "# Instantiate the SVD model with the optimal hyperparameters\n",
    "optimal_svd = SVD(n_factors=50, n_epochs=20, lr_all=0.005, reg_all=0.05)\n",
    "\n",
    "# Perform cross-validation\n",
    "cross_validate(optimal_svd, data, measures=['RMSE', 'MAE'], cv=3, verbose=True)\n",
    "\n",
    "# Train the dataset and fit the algorithm\n",
    "trainset = data.build_full_trainset()\n",
    "optimal_svd.fit(trainset)"
   ]
  },
  {
   "cell_type": "code",
   "execution_count": 32,
   "id": "03c28d33",
   "metadata": {},
   "outputs": [
    {
     "name": "stdout",
     "output_type": "stream",
     "text": [
      "Predicted ratings was succesfully saved\n"
     ]
    }
   ],
   "source": [
    "# Create a list to store all predictions\n",
    "new_predicted_data = []\n",
    "\n",
    "# Iterate over all users and items\n",
    "for customer_id in ratings_data['CustomerID'].unique():\n",
    "    for product_id in ratings_data['ProductID'].unique():\n",
    "        # Predict the rating\n",
    "        prediction = optimal_svd.predict(customer_id, product_id)\n",
    "        new_predicted_data.append((customer_id, product_id, prediction.est))\n",
    "\n",
    "# Create a new dataframe with new predictions\n",
    "new_predicted_ratings = pd.DataFrame(new_predicted_data, columns=['CustomerID', 'ProductID', 'Predicted Rating'])\n",
    "\n",
    "# Save predicted ratings\n",
    "new_predicted_ratings.to_csv('Predicted ratings.csv', index=False)\n",
    "print('Predicted ratings was succesfully saved')"
   ]
  },
  {
   "cell_type": "markdown",
   "id": "bc5a5cda",
   "metadata": {},
   "source": [
    "# Saving the model"
   ]
  },
  {
   "cell_type": "code",
   "execution_count": 33,
   "id": "c427a361",
   "metadata": {},
   "outputs": [
    {
     "name": "stdout",
     "output_type": "stream",
     "text": [
      "Model was succesfully saved\n"
     ]
    }
   ],
   "source": [
    "with open('Recommendation Model.pkl', 'wb') as file:\n",
    "    pickle.dump(optimal_svd, file)\n",
    "    print('Model was succesfully saved')"
   ]
  },
  {
   "cell_type": "markdown",
   "id": "deef4437",
   "metadata": {},
   "source": [
    "# Results Mannual Check"
   ]
  },
  {
   "cell_type": "code",
   "execution_count": 36,
   "id": "888a475c",
   "metadata": {},
   "outputs": [
    {
     "name": "stdout",
     "output_type": "stream",
     "text": [
      "Product ID: 546 - Predicted Rating: 2.3962216865370345\n",
      "Product ID: 466 - Predicted Rating: 2.3764758285825884\n",
      "Product ID: 77 - Predicted Rating: 2.362791544558142\n",
      "Product ID: 126 - Predicted Rating: 2.3483524119471566\n",
      "Product ID: 414 - Predicted Rating: 2.347026335508013\n",
      "Product ID: 212 - Predicted Rating: 2.343483536201222\n",
      "Product ID: 100 - Predicted Rating: 2.3422152901449724\n",
      "Product ID: 275 - Predicted Rating: 2.3381505222062513\n",
      "Product ID: 354 - Predicted Rating: 2.336935540549495\n",
      "Product ID: 563 - Predicted Rating: 2.3331551453783264\n"
     ]
    }
   ],
   "source": [
    "# Example Usage\n",
    "user_id = 103416\n",
    "products_number = 10\n",
    "\n",
    "# Filter for the requested user ID \n",
    "rated_products = ratings_data[ratings_data['CustomerID'] == user_id]['ProductID'].unique()\n",
    "user_recommendations = new_predicted_ratings[new_predicted_ratings['CustomerID'] == user_id]\n",
    "new_recommendations = user_recommendations[~user_recommendations['ProductID'].isin(rated_products)]\n",
    "top_recommendations = new_recommendations.sort_values(by='Predicted Rating', ascending=False).head(products_number)\n",
    "\n",
    "# Generate recommendations for the requested user\n",
    "output = list(zip(top_recommendations['ProductID'], top_recommendations['Predicted Rating']))\n",
    "\n",
    "# Display the recommendations\n",
    "for product_id, rating in output:\n",
    "    print(f\"Product ID: {product_id} - Predicted Rating: {rating}\")\n"
   ]
  },
  {
   "cell_type": "code",
   "execution_count": null,
   "id": "5794beff",
   "metadata": {},
   "outputs": [],
   "source": []
  }
 ],
 "metadata": {
  "kernelspec": {
   "display_name": "Python 3 (ipykernel)",
   "language": "python",
   "name": "python3"
  },
  "language_info": {
   "codemirror_mode": {
    "name": "ipython",
    "version": 3
   },
   "file_extension": ".py",
   "mimetype": "text/x-python",
   "name": "python",
   "nbconvert_exporter": "python",
   "pygments_lexer": "ipython3",
   "version": "3.11.4"
  }
 },
 "nbformat": 4,
 "nbformat_minor": 5
}
